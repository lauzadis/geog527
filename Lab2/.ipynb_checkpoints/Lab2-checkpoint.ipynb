{
 "cells": [
  {
   "cell_type": "markdown",
   "metadata": {
    "id": "Vmtfz2PTUnex"
   },
   "source": [
    "# GEOG 527 (SP21): \n",
    "# Geospatial AI & Machine Learning\n",
    "# Lab 02: Regression Models\n",
    "\n",
    "## (response sheet)\n",
    " \n",
    "## Due:  Sunday, 04 Apr 2021 at 11:59 PM\n",
    "## Value:  6 points\n",
    "## Import/Install libraries on Colab: [Examples](https://colab.research.google.com/notebooks/snippets/importing_libraries.ipynb)\n",
    "\n",
    "## More about Kaggle datasets: [link](https://www.kaggle.com/datasets)\n"
   ]
  },
  {
   "cell_type": "markdown",
   "metadata": {
    "id": "LfZ8svkwUsbC"
   },
   "source": [
    "# Part 1 - Outlier Detection (2 PT)\n",
    "## Please register a kaggle account and download the [Geospatial Sao Paulo Crime Database](https://www.kaggle.com/danlessa/geospatial-sao-paulo-crime-database/version/1). Develop a method to identify the outlier(s) in this dataset (dataset-limpo.csv). \n",
    "## Note: you can identify outlier based on (1)spatial distribution, (2) statistical (frequency) distribution, (3) or your own methods (e.g., based on the defined bounding box)."
   ]
  },
  {
   "cell_type": "code",
   "execution_count": 12,
   "metadata": {
    "id": "txan6hSbTV43",
    "scrolled": true
   },
   "outputs": [
    {
     "data": {
      "image/png": "[encoded data removed]",
      "text/plain": [
       "<Figure size 432x288 with 1 Axes>"
      ]
     },
     "metadata": {
      "needs_background": "light"
     },
     "output_type": "display_data"
    },
    {
     "name": "stdout",
     "output_type": "stream",
     "text": [
      "There are 19 points outside of Sao Paulo in this dataset.\n",
      "          id            bairro  ...                     geometry outlier\n",
      "29     82758          Coqueiro  ...   POINT (-48.38692 -1.35140)    True\n",
      "2593   64840               NaN  ...  POINT (-43.03207 -22.81734)    True\n",
      "2784   77591           Asa Sul  ...  POINT (-47.90684 -15.81247)    True\n",
      "4411   83103    Vila Vera Cruz  ...  POINT (-46.63880 -24.10182)    True\n",
      "4717   57624               NaN  ...  POINT (-46.52464 -24.04676)    True\n",
      "4970   76722      Vila Caiçara  ...  POINT (-46.51618 -24.04525)    True\n",
      "4971   76721      Vila Caiçara  ...  POINT (-46.51416 -24.04435)    True\n",
      "5876   71492           Civit I  ...  POINT (-40.23714 -20.15844)    True\n",
      "7786   76108          Brasília  ...  POINT (-47.88653 -15.73716)    True\n",
      "7815   68808       Jardim Real  ...  POINT (-46.56244 -24.06567)    True\n",
      "8440   80124    Jardim Sulacap  ...  POINT (-43.41026 -22.88524)    True\n",
      "8823   61410               NaN  ...  POINT (-49.12624 -26.47304)    True\n",
      "9666   54875               NaN  ...  POINT (-43.55495 -22.72058)    True\n",
      "9737   64007               NaN  ...  POINT (-46.59088 -24.07776)    True\n",
      "10681  66184    Americanópolis  ...     POINT (0.00453 -0.01391)    True\n",
      "10874  78557  Jardim Imperador  ...  POINT (-46.54746 -24.05844)    True\n",
      "10890  78311     Monte Castelo  ...   POINT (-44.28292 -2.53912)    True\n",
      "11260  73219          Maracanã  ...  POINT (-43.23673 -22.90920)    True\n",
      "12085  49726               NaN  ...  POINT (-39.87866 -18.71966)    True\n",
      "\n",
      "[19 rows x 38 columns]\n"
     ]
    }
   ],
   "source": [
    "# Answer\n",
    "\n",
    "# Identify Spatial Outliers\n",
    "\n",
    "import pandas as pd\n",
    "import geopandas as gpd\n",
    "import matplotlib.pyplot as plt\n",
    "\n",
    "# Read Crime Data\n",
    "df = pd.read_csv(\"./dataset-limpo.csv\")\n",
    "crime = gpd.GeoDataFrame(df, geometry=gpd.points_from_xy(df.longitude, df.latitude), crs=\"EPSG:4326\") \n",
    "\n",
    "# Read Sao Paulo Shapefile (https://datacatalog.worldbank.org/dataset/sao-paulo-municipalities)\n",
    "sao_paulo = gpd.read_file(\"./sao_paulo/sao_paulo.shp\")\n",
    "sao_paulo = sao_paulo.dissolve()\n",
    "\n",
    "# Visualization\n",
    "ax = sao_paulo.plot()\n",
    "crime.plot(ax=ax)\n",
    "plt.show()\n",
    "\n",
    "# Identify outliers as points outside of Sao Paulo\n",
    "def is_outlier(crime_row):\n",
    "    return ~sao_paulo[\"geometry\"].contains(crime_row[\"geometry\"])\n",
    "\n",
    "crime[\"outlier\"] = crime.apply(is_outlier, axis=1)\n",
    "print(\"There are\", len(crime[crime[\"outlier\"] == True]), \"points outside of Sao Paulo in this dataset.\")\n",
    "print(crime[crime[\"outlier\"] == True])"
   ]
  },
  {
   "cell_type": "markdown",
   "metadata": {
    "id": "TXoXrcUdgFER"
   },
   "source": [
    "# Part 2 - Regression Analysis (2 PT)\n",
    "## Please take a look at this document for sci-kit learn's [LinearRegression](https://scikit-learn.org/stable/modules/generated/sklearn.linear_model.LinearRegression.html) and the read this article - [\"*Estimation of Gross Domestic Product at Sub-National Scales Using Nighttime Satellite Imagery*\"](https://www.researchgate.net/publication/242254394_Estimation_of_Gross_Domestic_Product_at_Sub-National_Scales_Using_Nighttime_Satellite_Imagery). Fit the linear model (using ordinary least squares estimator in linear regression model) with the aggregated national-level GDP and nighttime light (NTL) data to:\n",
    "\n",
    "\n",
    "1.   Find the coefficient of determination ($R^{2}$)\n",
    "2.   Plot the best fit line\n",
    "\n"
   ]
  },
  {
   "cell_type": "code",
   "execution_count": 49,
   "metadata": {
    "id": "zwm2FkmQgM9e"
   },
   "outputs": [
    {
     "name": "stdout",
     "output_type": "stream",
     "text": [
      "1. The coefficient of determination is 0.8552998282650479\n",
      "2. Plot the best fit line\n"
     ]
    },
    {
     "data": {
      "image/png": "[encoded data removed]",
      "text/plain": [
       "<Figure size 432x288 with 1 Axes>"
      ]
     },
     "metadata": {
      "needs_background": "light"
     },
     "output_type": "display_data"
    }
   ],
   "source": [
    "# Answer\n",
    "\n",
    "import pandas as pd\n",
    "import numpy as np\n",
    "import matplotlib.pyplot as plt\n",
    "from sklearn.linear_model import LinearRegression\n",
    "\n",
    "# read data\n",
    "gdp_ntl = pd.read_excel(\"Lab2_p2_ntl_gdp.xlsx\")\n",
    "\n",
    "# extract x, y\n",
    "# x is night time light value\n",
    "# y is the GDP value, what we are predicting\n",
    "\n",
    "x = gdp_ntl.NTL.values\n",
    "x = x.reshape(x.shape[0], 1)\n",
    "\n",
    "y = gdp_ntl.GDP.values\n",
    "y = y.reshape(y.shape[0], 1)\n",
    "\n",
    "# Fit the LinearRegression\n",
    "reg = LinearRegression()\n",
    "reg = reg.fit(x, y)\n",
    "print(\"1. The coefficient of determination is\", reg.score(x, y))\n",
    "\n",
    "print(\"2. Plot the best fit line\")\n",
    "plt.scatter(x, y, color='g')\n",
    "plt.plot(x, reg.predict(x), color='k')\n",
    "plt.show()"
   ]
  },
  {
   "cell_type": "markdown",
   "metadata": {
    "id": "udQ6KbQrmcZH"
   },
   "source": [
    "# Part 3 - HLM (2 PT)\n",
    "## Based on this article - [\"*Scales of association: hierarchical linear models and the measurement of ecological systems*\"](https://www.researchgate.net/publication/6334221_Scales_of_association_Hierarchical_linear_models_and_the_measurement_of_ecological_systems) and the tutorial- [GLM: Hierarchical Linear Regression](https://docs.pymc.io/notebooks/GLM-hierarchical.html). Briefly explain:\n",
    "\n",
    "\n",
    "1.   What is HLM?\n",
    "2.   What are the advantages of HLM?\n",
    "\n"
   ]
  },
  {
   "cell_type": "code",
   "execution_count": null,
   "metadata": {
    "id": "jK8IUw72gVa4"
   },
   "outputs": [],
   "source": [
    "'''\n",
    "1. HLM, also known as hierarchical linear modeling, is a method of linear \n",
    "regression that can be used on hierarchical data. An example where this would \n",
    "be appropriate is in a school district dataset, where there are school \n",
    "buildings, classrooms within those buildings, and students within those \n",
    "classrooms. Rather than treating these students, for example, as completely \n",
    "different, an HLM might consider students in the same classroom as having some \n",
    "level of similarity, changing the results of the model.\n",
    "\n",
    "\n",
    "2. Traditional linear regression will not work very well on hierarchical data, \n",
    "if at all. Using HLM allows data analysts to place emphasis on the underlying \n",
    "hierarchies when training the model. This allows the analyst to more accurately\n",
    "represent the data that is being modeled.\n",
    "'''"
   ]
  }
 ],
 "metadata": {
  "colab": {
   "name": "Lab2.ipynb",
   "provenance": []
  },
  "kernelspec": {
   "display_name": "Python 3",
   "language": "python",
   "name": "python3"
  },
  "language_info": {
   "codemirror_mode": {
    "name": "ipython",
    "version": 3
   },
   "file_extension": ".py",
   "mimetype": "text/x-python",
   "name": "python",
   "nbconvert_exporter": "python",
   "pygments_lexer": "ipython3",
   "version": "3.8.5"
  }
 },
 "nbformat": 4,
 "nbformat_minor": 1
}
